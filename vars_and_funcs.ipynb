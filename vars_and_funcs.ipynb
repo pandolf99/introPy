{
 "cells": [
  {
   "cell_type": "markdown",
   "id": "choice-saudi",
   "metadata": {},
   "source": [
    "# Intro "
   ]
  },
  {
   "cell_type": "markdown",
   "id": "challenging-overhead",
   "metadata": {},
   "source": [
    "## Variables and Functions"
   ]
  },
  {
   "cell_type": "markdown",
   "id": "decreased-drinking",
   "metadata": {},
   "source": [
    "Variables can be any thing you want.  \n",
    "The left hand side is the variable name  \n",
    "The right hand side is the value that the variable holds.   \n",
    "The values can be of different types.  \n",
    "Two of the most important types are strings and integers.  "
   ]
  },
  {
   "cell_type": "code",
   "execution_count": 1,
   "id": "residential-skill",
   "metadata": {},
   "outputs": [],
   "source": [
    "string = \"hello_world\" #strings must be quoted.\n",
    "num = 12345 #integes dont have decimals\n",
    "flot = 123.001 #floats have decimal values"
   ]
  },
  {
   "cell_type": "markdown",
   "id": "raising-occupation",
   "metadata": {},
   "source": [
    "Different types have different operators.  \n",
    "Consider the standard mathematical operatos"
   ]
  },
  {
   "cell_type": "code",
   "execution_count": 2,
   "id": "minus-kitchen",
   "metadata": {},
   "outputs": [
    {
     "name": "stdout",
     "output_type": "stream",
     "text": [
      "10 1.25\n"
     ]
    }
   ],
   "source": [
    "num = 5 * 5\n",
    "num2 = 5 ** 2 #To the power of\n",
    "num3 = 10 - 5\n",
    "#You can use operators with variables of the same type.\n",
    "#And PEMDAS applies\n",
    "num4 = (num + num2) // num3 #integer division\n",
    "num5 = num4 / 8 #float division\n",
    "print(num4, num5)"
   ]
  },
  {
   "cell_type": "markdown",
   "id": "handmade-recommendation",
   "metadata": {},
   "source": [
    "Strings also have mathematical operators. But they have different meaning"
   ]
  },
  {
   "cell_type": "code",
   "execution_count": 3,
   "id": "classical-spirit",
   "metadata": {},
   "outputs": [
    {
     "name": "stdout",
     "output_type": "stream",
     "text": [
      "this is a new_string\n",
      "hi hi hi hi hi \n"
     ]
    }
   ],
   "source": [
    "string = \"this is a \" + \"new_string\" # + concatenates a string\n",
    "string2 = \"hi \" * 5 # * repeats a dtring\n",
    "print(string)\n",
    "print(string2)"
   ]
  },
  {
   "cell_type": "markdown",
   "id": "fallen-hearts",
   "metadata": {},
   "source": [
    "The power of strings comes from the methods attached to them.  \n",
    "Find a full list at https://www.w3schools.com/python/python_ref_string.asp"
   ]
  },
  {
   "cell_type": "code",
   "execution_count": 4,
   "id": "federal-dylan",
   "metadata": {
    "scrolled": true
   },
   "outputs": [
    {
     "name": "stdout",
     "output_type": "stream",
     "text": [
      "THIS IS A NEW_STRING\n",
      "True\n",
      "20\n"
     ]
    }
   ],
   "source": [
    "print(string.upper()) #Convert a string to all upper case\n",
    "print(string.endswith(\"ing\")) #Return true if string wnds with \"ing\" \n",
    "print(len(string)) #number of characters in a string"
   ]
  },
  {
   "cell_type": "markdown",
   "id": "modular-concept",
   "metadata": {},
   "source": [
    "Functions are ... functions. They have an input and an output"
   ]
  },
  {
   "cell_type": "code",
   "execution_count": 5,
   "id": "funky-hollywood",
   "metadata": {},
   "outputs": [
    {
     "name": "stdout",
     "output_type": "stream",
     "text": [
      "this is a new_string 25\n"
     ]
    }
   ],
   "source": [
    "#Print is a function it takes any number of variables as inputs and prints it to the screen\n",
    "print(string, num)"
   ]
  },
  {
   "cell_type": "markdown",
   "id": "published-beverage",
   "metadata": {},
   "source": [
    "You can define your own function,\n",
    "You need 0 or more inptus and a return statement that define the output."
   ]
  },
  {
   "cell_type": "code",
   "execution_count": 6,
   "id": "occupied-marketplace",
   "metadata": {},
   "outputs": [
    {
     "data": {
      "text/plain": [
       "'HELLO LUISFE'"
      ]
     },
     "execution_count": 6,
     "metadata": {},
     "output_type": "execute_result"
    }
   ],
   "source": [
    "def say_hello():\n",
    "    return \"hello\"\n",
    "def say_hello_to(s):\n",
    "    s = \"hello \" + s\n",
    "    s = s.upper()\n",
    "    return s\n",
    "\n",
    "say_hello_to(\"Luisfe\")"
   ]
  },
  {
   "cell_type": "markdown",
   "id": "chief-somewhere",
   "metadata": {},
   "source": [
    "You can call functions inside other functions"
   ]
  },
  {
   "cell_type": "code",
   "execution_count": 7,
   "id": "blocked-california",
   "metadata": {},
   "outputs": [
    {
     "data": {
      "text/plain": [
       "'hello s'"
      ]
     },
     "execution_count": 7,
     "metadata": {},
     "output_type": "execute_result"
    }
   ],
   "source": [
    "def say_hello2(s):\n",
    "    hi = say_hello()\n",
    "    return hi + \" s\"\n",
    "\n",
    "say_hello2(\"foo\")"
   ]
  },
  {
   "cell_type": "code",
   "execution_count": null,
   "id": "pleased-benjamin",
   "metadata": {},
   "outputs": [],
   "source": []
  }
 ],
 "metadata": {
  "kernelspec": {
   "display_name": "Python 3",
   "language": "python",
   "name": "python3"
  },
  "language_info": {
   "codemirror_mode": {
    "name": "ipython",
    "version": 3
   },
   "file_extension": ".py",
   "mimetype": "text/x-python",
   "name": "python",
   "nbconvert_exporter": "python",
   "pygments_lexer": "ipython3",
   "version": "3.9.1"
  }
 },
 "nbformat": 4,
 "nbformat_minor": 5
}
